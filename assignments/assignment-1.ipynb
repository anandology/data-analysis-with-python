{
 "cells": [
  {
   "cell_type": "markdown",
   "id": "0f1122a8-83f7-40b6-9ed7-531bd409a434",
   "metadata": {},
   "source": [
    "# Assignment 1"
   ]
  },
  {
   "cell_type": "markdown",
   "id": "bf2d560e-9962-43c9-8755-ef968ff4d906",
   "metadata": {},
   "source": [
    "## Problem 1"
   ]
  },
  {
   "cell_type": "code",
   "execution_count": 3,
   "id": "337845ae-58e2-42e5-99bd-c9fadaf975a5",
   "metadata": {
    "execution": {
     "iopub.execute_input": "2023-11-20T14:13:45.655517Z",
     "iopub.status.busy": "2023-11-20T14:13:45.655228Z",
     "iopub.status.idle": "2023-11-20T14:13:45.664195Z",
     "shell.execute_reply": "2023-11-20T14:13:45.663561Z",
     "shell.execute_reply.started": "2023-11-20T14:13:45.655491Z"
    }
   },
   "outputs": [
    {
     "data": {
      "text/html": [
       "\n",
       "        <strong>Problem: Find a Train</strong>\n",
       "\n",
       "        <p><p>Write a function <code>find_train</code> to find the information about a train given the trian number.</p>\n",
       "<pre><code class=\"language-python\">&gt;&gt;&gt; find_train(&quot;12028&quot;)\n",
       "name                 BANGALORE CITY - CHENNAI CENT Shatabdi Exp\n",
       "type                                                       Shtb\n",
       "zone                                                        SWR\n",
       "from_station_code                                           SBC\n",
       "from_station_name                             BANGALORE CITY JN\n",
       "to_station_code                                             MAS\n",
       "to_station_name                                 CHENNAI CENTRAL\n",
       "departure                                              06:00:00\n",
       "arrival                                                11:00:00\n",
       "duration_h                                                  5.0\n",
       "duration_m                                                  0.0\n",
       "distance                                                  362.0\n",
       "return_train                                              12027\n",
       "sleeper                                                       0\n",
       "third_ac                                                      0\n",
       "second_ac                                                     0\n",
       "first_ac                                                      0\n",
       "first_class                                                   0\n",
       "chair_car                                                     1\n",
       "Name: 12028, dtype: object\n",
       "</code></pre>\n",
       "        </p>\n",
       "\n",
       "        <p>You can verify your solution using:\n",
       "        <pre>%verify_problem pandas-find-train</pre>\n",
       "        </p>\n",
       "        "
      ],
      "text/plain": [
       "<Probem: pandas-find-train>"
      ]
     },
     "metadata": {},
     "output_type": "display_data"
    }
   ],
   "source": [
    "%load_problem pandas-find-train"
   ]
  },
  {
   "cell_type": "code",
   "execution_count": null,
   "id": "ea98604a-bad2-490f-89a2-8d6e478dbf19",
   "metadata": {},
   "outputs": [],
   "source": [
    "# your code here\n",
    "\n",
    "\n",
    "\n"
   ]
  },
  {
   "cell_type": "code",
   "execution_count": null,
   "id": "9ec13912-23f4-45e4-b127-d42b76ba345a",
   "metadata": {},
   "outputs": [],
   "source": []
  },
  {
   "cell_type": "code",
   "execution_count": null,
   "id": "91a36436-2b24-4728-a12b-ea687ed7c337",
   "metadata": {},
   "outputs": [],
   "source": [
    "find_train(\"12028\")"
   ]
  },
  {
   "cell_type": "code",
   "execution_count": null,
   "id": "9977e83a-0442-4c47-811d-8961a541df2c",
   "metadata": {},
   "outputs": [],
   "source": [
    "%verify_problem pandas-find-train"
   ]
  },
  {
   "cell_type": "code",
   "execution_count": null,
   "id": "b39146e5-5508-424b-b4a6-456cbb191eeb",
   "metadata": {},
   "outputs": [],
   "source": []
  },
  {
   "cell_type": "markdown",
   "id": "677050c6-8d7f-44f4-a635-923e43b20320",
   "metadata": {},
   "source": [
    "## Problem 2"
   ]
  },
  {
   "cell_type": "code",
   "execution_count": 1,
   "id": "2facdc7f-f726-48ca-bfdc-4efa9fc2b0e3",
   "metadata": {
    "execution": {
     "iopub.execute_input": "2023-11-20T13:39:17.284704Z",
     "iopub.status.busy": "2023-11-20T13:39:17.284387Z",
     "iopub.status.idle": "2023-11-20T13:39:17.323815Z",
     "shell.execute_reply": "2023-11-20T13:39:17.323172Z",
     "shell.execute_reply.started": "2023-11-20T13:39:17.284679Z"
    }
   },
   "outputs": [
    {
     "data": {
      "text/html": [
       "\n",
       "        <strong>Problem: Find Trains with Time Filter</strong>\n",
       "\n",
       "        <p><p>Write a function <code>find_trains</code> to find trains betwene two stations which have the departure between the specified times.</p>\n",
       "<p>The function takes 4 arguments: <code>src</code> - the source station code, <code>dest</code> - the destination station code and time <code>t1</code> and time <code>t2</code>.</p>\n",
       "<p>It finds all the trains from <code>src</code> to <code>dest</code> that has the departure time between <code>t1</code> and <code>t2</code>.</p>\n",
       "<p>The returned dataframe should have the following columns:</p>\n",
       "<ul>\n",
       "<li>number</li>\n",
       "<li>name</li>\n",
       "<li>departure</li>\n",
       "<li>arrival</li>\n",
       "</ul>\n",
       "<pre><code class=\"language-python\">&gt;&gt;&gt; find_trains(&quot;SBC&quot;, &quot;MAS&quot;, &quot;00:00&quot;, &quot;23:59&quot;)\n",
       "    number  name    departure   arrival\n",
       "303 12028   BANGALORE CITY - CHENNAI CENT Shatabdi Exp  06:00:00    11:00:00\n",
       "750 12608   BANGALORE - CHENNAI CENTRAL Lalbagh Exp 06:30:00    12:15:00\n",
       "787 12640   BANGALORE - CHENNAI CENT Brindavan Exp  14:30:00    20:25:00\n",
       "795 12658   BANGALORE - CHENNAI Mail    22:45:00    04:40:00\n",
       "1903    12610   BANGALORE - CHENNAI CENT SF Intercity Exp   08:00:00    14:30:00\n",
       "\n",
       "\n",
       "&gt;&gt;&gt; find_trains(&quot;SBC&quot;, &quot;MAS&quot;, &quot;06:00&quot;, &quot;07:00&quot;)\n",
       "    number  name    departure   arrival\n",
       "303 12028   BANGALORE CITY - CHENNAI CENT Shatabdi Exp  06:00:00    11:00:00\n",
       "750 12608   BANGALORE - CHENNAI CENTRAL Lalbagh Exp 06:30:00    12:15:00\n",
       "\n",
       "\n",
       "&gt;&gt;&gt; find_trains(&quot;SBC&quot;, &quot;MAS&quot;, &quot;06:00&quot;, &quot;09:00&quot;)\n",
       "    number  name    departure   arrival\n",
       "303 12028   BANGALORE CITY - CHENNAI CENT Shatabdi Exp  06:00:00    11:00:00\n",
       "750 12608   BANGALORE - CHENNAI CENTRAL Lalbagh Exp 06:30:00    12:15:00\n",
       "1903    12610   BANGALORE - CHENNAI CENT SF Intercity Exp   08:00:00    14:30:00\n",
       "</code></pre>\n",
       "        </p>\n",
       "\n",
       "        <p>You can verify your solution using:\n",
       "        <pre>%verify_problem pandas-find-trains-v2</pre>\n",
       "        </p>\n",
       "        "
      ],
      "text/plain": [
       "<Probem: pandas-find-trains-v2>"
      ]
     },
     "metadata": {},
     "output_type": "display_data"
    }
   ],
   "source": [
    "%load_problem pandas-find-trains-v2"
   ]
  },
  {
   "cell_type": "code",
   "execution_count": null,
   "id": "eb3775ab-0832-441f-98d5-328db5d48ed2",
   "metadata": {},
   "outputs": [],
   "source": [
    "# your code here\n",
    "\n",
    "\n",
    "\n"
   ]
  },
  {
   "cell_type": "code",
   "execution_count": null,
   "id": "8dad5a1b-f95c-4a09-80a9-24884c580c41",
   "metadata": {},
   "outputs": [],
   "source": []
  },
  {
   "cell_type": "code",
   "execution_count": null,
   "id": "618d7b11-b8c2-491f-90e2-754655696a1a",
   "metadata": {},
   "outputs": [],
   "source": [
    "find_trains(\"SBC\", \"MAS\", \"00:00\", \"23:59\")"
   ]
  },
  {
   "cell_type": "code",
   "execution_count": null,
   "id": "03d6e184-d5a2-491a-8ae4-9c1c92008cdd",
   "metadata": {},
   "outputs": [],
   "source": [
    "find_trains(\"SBC\", \"MAS\", \"06:00\", \"07:00\")"
   ]
  },
  {
   "cell_type": "code",
   "execution_count": null,
   "id": "e3c5c072-6754-48c3-ab51-023bcef1c493",
   "metadata": {},
   "outputs": [],
   "source": [
    "find_trains(\"SBC\", \"MAS\", \"06:00\", \"09:00\")"
   ]
  },
  {
   "cell_type": "code",
   "execution_count": null,
   "id": "21ba80fa-05be-4836-b12e-c3c317e10486",
   "metadata": {},
   "outputs": [],
   "source": [
    "%verify_problem pandas-find-trains-v2"
   ]
  },
  {
   "cell_type": "code",
   "execution_count": null,
   "id": "8a579d67-0983-4024-9afe-3ccbf61103da",
   "metadata": {},
   "outputs": [],
   "source": []
  },
  {
   "cell_type": "markdown",
   "id": "6476e4fe-f67c-4bd3-ac23-66ddf546046c",
   "metadata": {},
   "source": [
    "## Problem 3"
   ]
  },
  {
   "cell_type": "code",
   "execution_count": 5,
   "id": "5b07612a-35b7-4863-9988-b7b711ac7970",
   "metadata": {
    "execution": {
     "iopub.execute_input": "2023-11-20T14:51:13.812183Z",
     "iopub.status.busy": "2023-11-20T14:51:13.811694Z",
     "iopub.status.idle": "2023-11-20T14:51:13.822915Z",
     "shell.execute_reply": "2023-11-20T14:51:13.822140Z",
     "shell.execute_reply.started": "2023-11-20T14:51:13.812159Z"
    }
   },
   "outputs": [
    {
     "data": {
      "text/html": [
       "\n",
       "        <strong>Problem: Fast Trains</strong>\n",
       "\n",
       "        <p><p>Write a function <code>get_fast_trains</code> to find the trains between two stations ordered by speed.</p>\n",
       "<p>The function should take a source station and destination station and return the trains between those stations ordered by the speed, with the fastest train coming as the first entry.</p>\n",
       "<p>The return value should be a dataframe with <code>number</code> as row index and with columns <code>name</code>, <code>departure</code>, <code>arrival</code>, <code>distance</code>, <code>duration</code> and <code>speed</code>.</p>\n",
       "<p>The <code>duration</code> and <code>speed</code> columns are not present in the dataset and they need to be computed.</p>\n",
       "<p>The <code>duration</code> is the total duration in hours, computed by combining <code>duration_h</code> and <code>duration_m</code> columns.</p>\n",
       "<p>The <code>speed</code> column is the average speed of the train, computed by dividing <code>distance</code> by <code>duration</code>.</p>\n",
       "<pre><code>&gt;&gt;&gt; get_fast_trains('SBC', 'MAS')\n",
       "    name    departure   arrival distance    duration    speed\n",
       "number\n",
       "12028   BANGALORE CITY - CHENNAI CENT Shatabdi Exp  06:00:00    11:00:00    362.0   5.000000    72.400000\n",
       "12608   BANGALORE - CHENNAI CENTRAL Lalbagh Exp 06:30:00    12:15:00    362.0   5.750000    62.956522\n",
       "12640   BANGALORE - CHENNAI CENT Brindavan Exp  14:30:00    20:25:00    362.0   5.916667    61.183099\n",
       "12658   BANGALORE - CHENNAI Mail    22:45:00    04:40:00    362.0   5.916667    61.183099\n",
       "12610   BANGALORE - CHENNAI CENT SF Intercity Exp   08:00:00    14:30:00    362.0   6.500000    55.692308\n",
       "\n",
       "&gt;&gt;&gt; get_fast_trains(&quot;HWH&quot;, &quot;NDLS&quot;)\n",
       "    name    departure   arrival distance    duration    speed\n",
       "number\n",
       "12301   Howrah-New Delhi Rajdhani Express   16:55:00    09:55:00    1447.0  17.000000   85.117647\n",
       "12273   Howrah-New Delhi Duronto Express    13:00:00    06:05:00    1446.0  17.083333   84.643902\n",
       "12305   Howrah-New Delhi Rajdhani Express   14:05:00    09:55:00    1530.0  19.833333   77.142857\n",
       "12303   Poorva Express  08:10:00    07:20:00    1530.0  23.166667   66.043165\n",
       "12323   Howrah-NewDelhi SF Express  18:45:00    17:00:00    1447.0  22.250000   65.033708\n",
       "12381   Poorva Express  08:20:00    07:20:00    1446.0  23.000000   62.869565\n",
       "</code></pre>\n",
       "        </p>\n",
       "\n",
       "        <p>You can verify your solution using:\n",
       "        <pre>%verify_problem pandas-fast-trains</pre>\n",
       "        </p>\n",
       "        "
      ],
      "text/plain": [
       "<Probem: pandas-fast-trains>"
      ]
     },
     "metadata": {},
     "output_type": "display_data"
    }
   ],
   "source": [
    "%load_problem pandas-fast-trains"
   ]
  },
  {
   "cell_type": "code",
   "execution_count": null,
   "id": "aab9b053-d45e-4d7b-93f7-511a87f1624a",
   "metadata": {},
   "outputs": [],
   "source": [
    "# your code here\n",
    "\n",
    "\n",
    "\n"
   ]
  },
  {
   "cell_type": "code",
   "execution_count": null,
   "id": "64af6241-b96c-456f-8f59-f2156051da33",
   "metadata": {},
   "outputs": [],
   "source": []
  },
  {
   "cell_type": "code",
   "execution_count": null,
   "id": "029e2f1f-023a-4eea-b8f8-1846348f668b",
   "metadata": {},
   "outputs": [],
   "source": [
    "get_fast_trains(\"SBC\", \"MAS\")"
   ]
  },
  {
   "cell_type": "code",
   "execution_count": null,
   "id": "8b34f23b-3542-406f-8298-5fa9ccaf9f5c",
   "metadata": {},
   "outputs": [],
   "source": [
    "get_fast_trains(\"HWH\", \"NDLS\")"
   ]
  },
  {
   "cell_type": "code",
   "execution_count": null,
   "id": "4eb0e3cb-e83c-40ae-9afa-8c3fa87567f7",
   "metadata": {},
   "outputs": [],
   "source": [
    "%verify_problem pandas-fast-trains"
   ]
  }
 ],
 "metadata": {
  "kernelspec": {
   "display_name": "Python 3 (ipykernel)",
   "language": "python",
   "name": "python3"
  },
  "language_info": {
   "codemirror_mode": {
    "name": "ipython",
    "version": 3
   },
   "file_extension": ".py",
   "mimetype": "text/x-python",
   "name": "python",
   "nbconvert_exporter": "python",
   "pygments_lexer": "ipython3",
   "version": "3.10.10"
  }
 },
 "nbformat": 4,
 "nbformat_minor": 5
}
