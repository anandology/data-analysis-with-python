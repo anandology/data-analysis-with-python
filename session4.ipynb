{
 "cells": [
  {
   "cell_type": "markdown",
   "id": "289886a3-97d3-4269-ad19-832025f8f34c",
   "metadata": {},
   "source": [
    "# Session 4: Building Dashboards with Streamlit"
   ]
  },
  {
   "cell_type": "markdown",
   "id": "c35a70be-0c27-46cc-9d7b-daac0104e535",
   "metadata": {},
   "source": [
    "[Streamlit](streamlit.io) is a tool for creating webapps and dashboards in pure python."
   ]
  },
  {
   "cell_type": "markdown",
   "id": "862020a2-03f1-4e1d-99b3-c3358b9bd22b",
   "metadata": {},
   "source": [
    "## Getting Started"
   ]
  },
  {
   "cell_type": "markdown",
   "id": "3f8dce79-8495-4ce3-9d39-0fb850c6d7d3",
   "metadata": {},
   "source": [
    "Let's start with a hello-world."
   ]
  },
  {
   "cell_type": "code",
   "execution_count": 37,
   "id": "d25719ea-0baf-4128-9e13-dcb82300785a",
   "metadata": {
    "execution": {
     "iopub.execute_input": "2023-11-27T04:10:47.107620Z",
     "iopub.status.busy": "2023-11-27T04:10:47.107351Z",
     "iopub.status.idle": "2023-11-27T04:10:47.112822Z",
     "shell.execute_reply": "2023-11-27T04:10:47.111970Z",
     "shell.execute_reply.started": "2023-11-27T04:10:47.107598Z"
    }
   },
   "outputs": [
    {
     "name": "stdout",
     "output_type": "stream",
     "text": [
      "Overwriting hello.py\n"
     ]
    }
   ],
   "source": [
    "%%file hello.py\n",
    "import streamlit as st\n",
    "import pandas as pd\n",
    "import matplotlib.pyplot as plt\n",
    "\n",
    "st.title(\"Hello, Streamlit!\")\n",
    "\n",
    "st.header(\"The Dataset\")\n",
    "\n",
    "df = pd.read_csv(\"data/un-min.csv\")\n",
    "\n",
    "st.write(df.head(10))\n",
    "\n",
    "# st.write(df[df.region == \"Asia\"])\n",
    "\n",
    "st.header(\"And everything else\")\n",
    "\n",
    "st.write(\"Hello, world\")\n",
    "st.write([\"One\", \"Two\", \"Three\"])\n",
    "st.write({\"x\": 1, \"y\": 2})\n",
    "\n",
    "\n"
   ]
  },
  {
   "cell_type": "markdown",
   "id": "167393e9-60cc-4488-99f6-e85d92a5b335",
   "metadata": {},
   "source": [
    "Open your terminal and run:\n",
    "\n",
    "```\n",
    "streamlit run hello.py\n",
    "```"
   ]
  },
  {
   "cell_type": "markdown",
   "id": "1e8f63c4-c089-42e6-b5e7-14291ad9ad5b",
   "metadata": {},
   "source": [
    "### Charts"
   ]
  },
  {
   "cell_type": "markdown",
   "id": "0400b2fe-5fde-44f5-a84a-acf512b3f61a",
   "metadata": {},
   "source": [
    "Streamlit support its own interactive charts and matplotlib."
   ]
  },
  {
   "cell_type": "code",
   "execution_count": 38,
   "id": "0fab6a37-ed2b-4ab0-8756-4142acb46022",
   "metadata": {
    "execution": {
     "iopub.execute_input": "2023-11-27T04:15:31.264430Z",
     "iopub.status.busy": "2023-11-27T04:15:31.264145Z",
     "iopub.status.idle": "2023-11-27T04:15:31.270755Z",
     "shell.execute_reply": "2023-11-27T04:15:31.269871Z",
     "shell.execute_reply.started": "2023-11-27T04:15:31.264405Z"
    }
   },
   "outputs": [
    {
     "name": "stdout",
     "output_type": "stream",
     "text": [
      "Overwriting charts.py\n"
     ]
    }
   ],
   "source": [
    "%%file charts.py\n",
    "\n",
    "import streamlit as st\n",
    "import pandas as pd\n",
    "import matplotlib.pyplot as plt\n",
    "import seaborn as sns\n",
    "\n",
    "st.title(\"Charts\")\n",
    "\n",
    "st.header(\"The Dataset\")\n",
    "\n",
    "df = pd.read_csv(\"data/un-min.csv\")\n",
    "\n",
    "st.write(df.head())\n",
    "\n",
    "st.header(\"Charts\")\n",
    "\n",
    "st.subheader(\"Streamlit\")    \n",
    "st.scatter_chart(df, x=\"GDPperCapita\", y=\"infantMortality\")\n",
    "\n",
    "st.subheader(\"Matplotlib\")        \n",
    "ax = df.plot.scatter(x=\"GDPperCapita\", y=\"infantMortality\")\n",
    "st.pyplot(ax.figure)\n",
    "\n",
    "st.subheader(\"Seaborn\")\n",
    "ax = sns.scatterplot(df, x=\"GDPperCapita\", y=\"infantMortality\", hue=\"region\")\n",
    "st.pyplot(ax.figure)"
   ]
  },
  {
   "cell_type": "markdown",
   "id": "6682726d-b80a-45c5-ad36-adadf8ae0a6c",
   "metadata": {
    "execution": {
     "iopub.execute_input": "2023-11-27T03:42:18.078652Z",
     "iopub.status.busy": "2023-11-27T03:42:18.078383Z",
     "iopub.status.idle": "2023-11-27T03:42:18.083877Z",
     "shell.execute_reply": "2023-11-27T03:42:18.082821Z",
     "shell.execute_reply.started": "2023-11-27T03:42:18.078629Z"
    }
   },
   "source": [
    "Run this application using:\n",
    "\n",
    "```\n",
    "$ streamlit run charts.py\n",
    "```"
   ]
  },
  {
   "cell_type": "markdown",
   "id": "6abf5ea4-aecc-4b80-a67f-1d718a104656",
   "metadata": {},
   "source": [
    "### Input Widgets"
   ]
  },
  {
   "cell_type": "markdown",
   "id": "d4341105-2ddf-4639-bc16-cb43279976e0",
   "metadata": {},
   "source": [
    "Streamlit provides many input widgets which are easy to use."
   ]
  },
  {
   "cell_type": "code",
   "execution_count": 49,
   "id": "3949b917-2d4a-4004-87ad-8738caece8a8",
   "metadata": {
    "execution": {
     "iopub.execute_input": "2023-11-27T04:38:55.991353Z",
     "iopub.status.busy": "2023-11-27T04:38:55.990883Z",
     "iopub.status.idle": "2023-11-27T04:38:55.997702Z",
     "shell.execute_reply": "2023-11-27T04:38:55.996328Z",
     "shell.execute_reply.started": "2023-11-27T04:38:55.991328Z"
    }
   },
   "outputs": [
    {
     "name": "stdout",
     "output_type": "stream",
     "text": [
      "Overwriting inputs.py\n"
     ]
    }
   ],
   "source": [
    "%%file inputs.py\n",
    "\n",
    "import streamlit as st\n",
    "import pandas as pd\n",
    "import matplotlib.pyplot as plt\n",
    "import seaborn as sns\n",
    "\n",
    "st.title(\"Input Widgets\")\n",
    "\n",
    "df = pd.read_csv(\"data/un-min.csv\")\n",
    "\n",
    "x = st.selectbox(\"X\", list(df.columns))\n",
    "y = st.selectbox(\"Y\", list(df.columns))\n",
    "\n",
    "color = st.selectbox(\"Color By\", list(df.columns))\n",
    "\n",
    "show = st.button(\"Show\")\n",
    "\n",
    "st.write(\"X =\", x)\n",
    "st.write(\"Y =\", y)\n",
    "st.write(\"Color =\", color)\n",
    "st.write(\"show =\", show)\n",
    "\n",
    "if show:\n",
    "    ax = sns.scatterplot(df, x=x, y=y, hue=color)\n",
    "    st.pyplot(ax.figure)\n",
    "\n",
    "\n",
    "num = st.number_input(\"Number\")\n",
    "radio = st.radio(\"Direction\", [\"East\", \"West\", \"North\", \"South\"])\n",
    "\n",
    "st.write(\"Num\", num)\n",
    "st.write(\"Radio\", radio)"
   ]
  },
  {
   "cell_type": "markdown",
   "id": "5b907083-8896-4447-bdcb-eb7eeb9e03e5",
   "metadata": {},
   "source": [
    "## Sidebar & Columns"
   ]
  },
  {
   "cell_type": "code",
   "execution_count": 48,
   "id": "14881ee7-ba12-4bb7-855a-c8fffef85f92",
   "metadata": {
    "execution": {
     "iopub.execute_input": "2023-11-27T04:31:14.911311Z",
     "iopub.status.busy": "2023-11-27T04:31:14.911049Z",
     "iopub.status.idle": "2023-11-27T04:31:14.917434Z",
     "shell.execute_reply": "2023-11-27T04:31:14.916108Z",
     "shell.execute_reply.started": "2023-11-27T04:31:14.911289Z"
    }
   },
   "outputs": [
    {
     "name": "stdout",
     "output_type": "stream",
     "text": [
      "Overwriting sidebar.py\n"
     ]
    }
   ],
   "source": [
    "%%file sidebar.py\n",
    "\n",
    "import streamlit as st\n",
    "import pandas as pd\n",
    "import seaborn as sns\n",
    "\n",
    "st.title(\"Sidebar & Columns\")\n",
    "\n",
    "df = pd.read_csv(\"data/un-min.csv\")\n",
    "\n",
    "\n",
    "with st.sidebar:\n",
    "    st.header(\"Sidebar\")\n",
    "\n",
    "    x = st.selectbox(\"X\", list(df.columns))\n",
    "    y = st.selectbox(\"Y\", list(df.columns))\n",
    "    color = st.selectbox(\"Color By\", list(df.columns))\n",
    "\n",
    "    st.write(\"X =\", x)\n",
    "    st.write(\"Y =\", y)\n",
    "    st.write(\"Color =\", color)\n",
    "    # st.write(\"show =\", show)\n",
    "\n",
    "c1, c2 = st.columns(2)\n",
    "with c1:\n",
    "    st.subheader(\"Column 1\")\n",
    "    st.write([1, 2, 3, 4, 5])\n",
    "\n",
    "with c2:\n",
    "    st.subheader(\"Column 2\")\n",
    "\n",
    "    ax = sns.scatterplot(df, x=x, y=y, hue=color)\n",
    "    st.pyplot(ax.figure)"
   ]
  },
  {
   "cell_type": "markdown",
   "id": "557f384d-0012-4657-9300-871ce842953e",
   "metadata": {},
   "source": [
    "#### Problem: Calculator"
   ]
  },
  {
   "cell_type": "markdown",
   "id": "ff93275e-eaf4-4a80-9b80-d10f6c9f099e",
   "metadata": {},
   "source": [
    "Write a streamlit application, that asks the user for two numbers x and y, select an operation from Add or Multiply and show the result.\n",
    "\n",
    "\n",
    "Hint:\n",
    "\n",
    "* [st.number_input][1]\n",
    "* [st.radio][2]\n",
    "\n",
    "[1]: https://docs.streamlit.io/library/api-reference/widgets/st.number_input\n",
    "[2]: https://docs.streamlit.io/library/api-reference/widgets/st.radio"
   ]
  },
  {
   "cell_type": "markdown",
   "id": "e2e1fb3a-a75a-451f-a377-eed7a4b9a20f",
   "metadata": {},
   "source": [
    "## Data Explorer v1"
   ]
  },
  {
   "cell_type": "code",
   "execution_count": 96,
   "id": "7a52c95b-5ad3-4b1a-a6b0-b414d8703e3f",
   "metadata": {
    "execution": {
     "iopub.execute_input": "2023-11-27T05:57:32.229935Z",
     "iopub.status.busy": "2023-11-27T05:57:32.229376Z",
     "iopub.status.idle": "2023-11-27T05:57:32.235949Z",
     "shell.execute_reply": "2023-11-27T05:57:32.234784Z",
     "shell.execute_reply.started": "2023-11-27T05:57:32.229909Z"
    }
   },
   "outputs": [
    {
     "name": "stdout",
     "output_type": "stream",
     "text": [
      "Overwriting data-explorer-v1.py\n"
     ]
    }
   ],
   "source": [
    "%%file data-explorer-v1.py\n",
    "import streamlit as st\n",
    "import pandas as pd\n",
    "import seaborn as sns\n",
    "from pathlib import Path\n",
    "\n",
    "filters = {}\n",
    "\n",
    "def select_dataset():\n",
    "    st.header(\"Select Dataset\")\n",
    "\n",
    "    datasets = Path(\"data\").glob(\"*.csv\")\n",
    "    datasets = list(datasets)\n",
    "\n",
    "    p = st.selectbox(\"Select Dataset\", datasets)\n",
    "    return p\n",
    "\n",
    "\n",
    "def select_columns(df):\n",
    "    st.header(\"Select Columns\")\n",
    "    numeric_columns = df.select_dtypes(include=\"number\").columns.tolist()\n",
    "    x = st.selectbox(\"X\", numeric_columns)\n",
    "    y = st.selectbox(\"Y\", numeric_columns)\n",
    "    color = st.selectbox(\"Color By\", list(df.columns))\n",
    "    return x, y, color\n",
    "\n",
    "def filter_numeric_column(df, name):\n",
    "    c = df[name]\n",
    "    left, right = st.slider(\n",
    "        name, \n",
    "        min_value=c.min(), \n",
    "        max_value=c.max(),\n",
    "        value=[c.min(), c.max()])\n",
    "\n",
    "    return df[(c >= left) & (c <= right)]\n",
    "\n",
    "def filter_categorical_column(df, name):\n",
    "    st.subheader(name)\n",
    "    c = df[name]\n",
    "\n",
    "    cats = {cat: st.checkbox(str(cat)) for cat in c.unique()}\n",
    "    selected = [k for k in cats if cats[k]]\n",
    "\n",
    "    if not selected:\n",
    "        return df\n",
    "\n",
    "    return df[c.isin(selected)]\n",
    "\n",
    "\n",
    "def find_categorical_columns(df):\n",
    "    return [name for name in df.select_dtypes(exclude=\"number\") \n",
    "            if df[name].nunique() <= 20]\n",
    "\n",
    "def filter_dataset(df):\n",
    "    st.header(\"Filters\")\n",
    "\n",
    "    for name in df.select_dtypes(include=\"number\"):\n",
    "        df = filter_numeric_column(df, name)\n",
    "\n",
    "    cat_columns = find_categorical_columns(df)\n",
    "\n",
    "    for name in cat_columns:\n",
    "        df = filter_categorical_column(df, name)\n",
    "\n",
    "    return df\n",
    "    \n",
    "with st.sidebar:\n",
    "    st.title(\"Data Explorer\")\n",
    "    path = select_dataset()\n",
    "    df = pd.read_csv(path)\n",
    "    x, y, color = select_columns(df)\n",
    "\n",
    "    df = filter_dataset(df)\n",
    "    \n",
    "title = path.stem.title()\n",
    "st.title(title)\n",
    "\n",
    "st.write(df.head())\n",
    "\n",
    "st.header(\"Charts\")\n",
    "ax = sns.scatterplot(df, x=x, y=y, hue=color)\n",
    "st.pyplot(ax.figure)"
   ]
  },
  {
   "cell_type": "markdown",
   "id": "3ebfb93c-b4ce-4252-8713-d834f8022d89",
   "metadata": {},
   "source": [
    "**Problem:** Add a Color By Column to the data explorer.\n",
    "\n",
    "To get all categotical columns, you can use:\n",
    "\n",
    "```\n",
    "df.select_dtypes(exclude=\"numeric\").columns.tolist()\n",
    "```"
   ]
  },
  {
   "cell_type": "markdown",
   "id": "635e80a6-2d23-4977-ac92-0ace42ed812e",
   "metadata": {},
   "source": [
    "**Problem:** Find all non-numeric columns that have less than 20 catagories and show checkboxes for each category to select that category.\n",
    "\n",
    "If you select the un-min dataset, it would show checkboxes for each region and let's you turn on or off a region."
   ]
  },
  {
   "cell_type": "code",
   "execution_count": null,
   "id": "cd145b4f-797a-4e4e-b636-2c47c6a315e9",
   "metadata": {},
   "outputs": [],
   "source": []
  }
 ],
 "metadata": {
  "kernelspec": {
   "display_name": "Python 3 (ipykernel)",
   "language": "python",
   "name": "python3"
  },
  "language_info": {
   "codemirror_mode": {
    "name": "ipython",
    "version": 3
   },
   "file_extension": ".py",
   "mimetype": "text/x-python",
   "name": "python",
   "nbconvert_exporter": "python",
   "pygments_lexer": "ipython3",
   "version": "3.10.10"
  }
 },
 "nbformat": 4,
 "nbformat_minor": 5
}
